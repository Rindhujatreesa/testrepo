{
 "cells": [
  {
   "cell_type": "code",
   "execution_count": 1,
   "id": "d9f69a68",
   "metadata": {},
   "outputs": [
    {
     "name": "stdout",
     "output_type": "stream",
     "text": [
      "{2, 4, 6, 8, 10}\n"
     ]
    }
   ],
   "source": [
    "import numpy as np\n",
    "Array = np.array({2,4,6,8,10})\n",
    "print(Array)"
   ]
  },
  {
   "cell_type": "code",
   "execution_count": 2,
   "id": "830daa62",
   "metadata": {},
   "outputs": [
    {
     "name": "stdout",
     "output_type": "stream",
     "text": [
      "['Rindhuja', 'Anooja', 'Anjoe'] , [   10   100  1000 10000]\n"
     ]
    }
   ],
   "source": [
    "##LIST\n",
    "List = [\"Rindhuja\", \"Anooja\", \"Anjoe\"]\n",
    "Names = np.fromstring(\"10 100 1000 10000\", dtype=int, sep=' ')\n",
    "print(List,\",\", Names)"
   ]
  },
  {
   "cell_type": "code",
   "execution_count": 3,
   "id": "a06988a8",
   "metadata": {},
   "outputs": [
    {
     "name": "stdout",
     "output_type": "stream",
     "text": [
      " Hi, I'm Rindhuja \n",
      "Hello, indhuja  , Nice to meet you!\n"
     ]
    }
   ],
   "source": [
    "Intro = \" Hi, I'm Rindhuja \"\n",
    "print(Intro)\n",
    "print(\"Hello,\",Intro[-8:],\", Nice to meet you!\")"
   ]
  },
  {
   "cell_type": "code",
   "execution_count": 4,
   "id": "54044e35",
   "metadata": {},
   "outputs": [
    {
     "name": "stdout",
     "output_type": "stream",
     "text": [
      " Hi, I am Rindhuja \n"
     ]
    }
   ],
   "source": [
    "print(Intro.replace(\"'\",\" a\"))"
   ]
  },
  {
   "cell_type": "code",
   "execution_count": 5,
   "id": "bb377907",
   "metadata": {},
   "outputs": [
    {
     "name": "stdout",
     "output_type": "stream",
     "text": [
      "Hi, I'm Rindhuja\n"
     ]
    }
   ],
   "source": [
    "print(Intro.strip()) #the unnecessary start enad end space deleted"
   ]
  },
  {
   "cell_type": "code",
   "execution_count": 6,
   "id": "01ec961b",
   "metadata": {},
   "outputs": [
    {
     "name": "stdout",
     "output_type": "stream",
     "text": [
      "['My', 'name', 'is', 'Rindhuja', 'Treesa,', 'I', 'am', '22', 'years', 'old']\n",
      "\n",
      " ['My name is Rindhuja Treesa', ' I am 22 years old']\n"
     ]
    }
   ],
   "source": [
    "Demo = \"\"\"My name is Rindhuja Treesa, I am 22 years old\"\"\"\n",
    "print(Demo.split()) #splits each word - uses space as the delimiter\n",
    "print(\"\\n\",Demo.split(\",\")) #splits when met by the delimiter ,"
   ]
  },
  {
   "cell_type": "code",
   "execution_count": 7,
   "id": "5f3fba54",
   "metadata": {},
   "outputs": [
    {
     "name": "stdout",
     "output_type": "stream",
     "text": [
      "Hi, I'm Rindhuja. My name is Rindhuja Treesa, I am 22 years old. I was born in India\n"
     ]
    }
   ],
   "source": [
    "Place = \"I was born in India\"\n",
    "Self = Intro.strip() + \". \" + Demo + \". \"+ Place\n",
    "print(Self)"
   ]
  },
  {
   "cell_type": "code",
   "execution_count": 8,
   "id": "3f65d9be",
   "metadata": {},
   "outputs": [
    {
     "name": "stdout",
     "output_type": "stream",
     "text": [
      "My name is Rindhuja. I am 22 years old and I am from Kerala.\n",
      "I am Rindhuja, a student from Kerala of age 22\n"
     ]
    }
   ],
   "source": [
    "Name = \"Rindhuja\"\n",
    "Age = 22\n",
    "Place = \"Kerala\"\n",
    "Demog = \"My name is {}. I am {} years old and I am from {}.\"\n",
    "print(Demog.format(Name, Age, Place))\n",
    "Intr = \"I am {0}, a student from {2} of age {1}\"\n",
    "print(Intr.format(Name, Age, Place))"
   ]
  },
  {
   "cell_type": "code",
   "execution_count": 9,
   "id": "c6a8641f",
   "metadata": {},
   "outputs": [
    {
     "name": "stdout",
     "output_type": "stream",
     "text": [
      "['Pen', 'Ink']\n",
      "Scale\n",
      "['Pen', 'Pencil', 'Scale', 'Eraser']\n",
      "['Pen', 'Ink', 'Sharpener', 'Eraser']\n",
      "['Pen', 'Pencil', 'Scale', 'Sharpener', 'Eraser']\n",
      "['Kit', 'Scale', 'Sharpener', 'Eraser']\n",
      "['Kit', 'Scale', 'Pen', 'Sharpener', 'Eraser']\n"
     ]
    }
   ],
   "source": [
    "List = [\"Pen\",\"Ink\",\"Scale\",\"Eraser\"]\n",
    "print(List[:2])\n",
    "print(List[-2])\n",
    "List[1]=\"Pencil\"\n",
    "print(List)\n",
    "List[1:3] = [\"Ink\", \"Sharpener\"]\n",
    "print(List)\n",
    "List[1:2] = [\"Pencil\", \"Scale\"]\n",
    "print(List)\n",
    "List[0:2] = [\"Kit\"]\n",
    "print(List)\n",
    "List.insert(2,\"Pen\")\n",
    "print(List)"
   ]
  },
  {
   "cell_type": "code",
   "execution_count": 10,
   "id": "5b275396",
   "metadata": {},
   "outputs": [
    {
     "name": "stdout",
     "output_type": "stream",
     "text": [
      "['Johnson', 'Reetha', 'Joseph']\n",
      "['Johnson', 'Reetha', 'Joseph', 'Thressia']\n",
      "['Rindhuja', 'Anooja', 'Anjoe', 'Johnson', 'Reetha', 'Joseph', 'Thressia']\n"
     ]
    }
   ],
   "source": [
    "Names = ['Rindhuja', 'Anooja', 'Anjoe']\n",
    "Parents = ['Johnson', 'Reetha']\n",
    "Parents.append(\"Joseph\")\n",
    "print(Parents)\n",
    "Parents.insert(3,\"Thressia\")\n",
    "print(Parents)\n",
    "Names.extend(Parents)\n",
    "print(Names)"
   ]
  },
  {
   "cell_type": "code",
   "execution_count": 11,
   "id": "2760a13c",
   "metadata": {},
   "outputs": [
    {
     "name": "stdout",
     "output_type": "stream",
     "text": [
      "['Rat', 'Snake', 'Elephant', 'TIger', 'Lion']\n",
      "['Rat', 'Snake', 'Elephant', 'TIger']\n",
      "['Rat', 'Snake', 'TIger']\n",
      "['Rat', 'Snake']\n",
      "[]\n"
     ]
    }
   ],
   "source": [
    "Animals = [\"Kangaroo\", \"Rat\", \"Snake\", \"Elephant\", \"TIger\", \"Lion\"]\n",
    "Animals.remove(\"Kangaroo\")\n",
    "print(Animals)\n",
    "Animals.pop()\n",
    "print(Animals)\n",
    "Animals.pop(2)\n",
    "print(Animals)\n",
    "del Animals[2]\n",
    "print(Animals)\n",
    "Animals.clear()\n",
    "print(Animals)\n",
    "del Animals\n",
    "# print(Animals): Will give error as the list no longer exists"
   ]
  },
  {
   "cell_type": "code",
   "execution_count": 12,
   "id": "d90f2b49",
   "metadata": {},
   "outputs": [
    {
     "name": "stdout",
     "output_type": "stream",
     "text": [
      "Rindhuja\n",
      "Anooja\n",
      "Anjoe\n",
      "Johnson\n",
      "Reetha\n",
      "Joseph\n",
      "Thressia\n",
      "Rindhuja\n",
      "Anooja\n",
      "Anjoe\n",
      "Johnson\n",
      "Reetha\n",
      "Joseph\n",
      "Thressia\n",
      "Names in the increasing order of number of characters: \n",
      " ['Anjoe', 'Anooja', 'Reetha', 'Joseph', 'Johnson', 'Rindhuja', 'Thressia']\n"
     ]
    }
   ],
   "source": [
    "for i in range(len(Names)):\n",
    "    print(Names[i])\n",
    "i=0\n",
    "while i < len(Names):\n",
    "    print(Names[i])\n",
    "    i=i+1\n",
    "def Namefunc(n):\n",
    "    return len(n)\n",
    "Names.sort(key = Namefunc)\n",
    "print(\"Names in the increasing order of number of characters: \\n\",Names)"
   ]
  },
  {
   "cell_type": "code",
   "execution_count": 13,
   "id": "d3933b5b",
   "metadata": {},
   "outputs": [
    {
     "name": "stdout",
     "output_type": "stream",
     "text": [
      "Apple\n",
      "('Mango', 'Apple')\n"
     ]
    }
   ],
   "source": [
    "##TUPLES\n",
    "mytuple = (\"apple\",\"Mango\",\"Apple\",\"Orange\")\n",
    "print(mytuple[2])\n",
    "print(mytuple[-3:-1])"
   ]
  },
  {
   "cell_type": "code",
   "execution_count": 14,
   "id": "ae2deb09",
   "metadata": {},
   "outputs": [
    {
     "name": "stdout",
     "output_type": "stream",
     "text": [
      "('apple', 'Mango', 'Apple', 'Orange')\n",
      "['apple', 'Mango', 'Apple', 'Orange']\n",
      "['apple', 'Mango', 'Kiwi', 'Apple', 'Orange']\n",
      "('apple', 'Mango', 'Kiwi', 'Apple', 'Orange')\n",
      "('apple', 'Mango', 'Kiwi', 'Apple', 'Orange', 'Pineapple', 'Lemon')\n",
      "1\n",
      "3\n"
     ]
    }
   ],
   "source": [
    "print(mytuple)\n",
    "New_fruits = list(mytuple)\n",
    "print(New_fruits)\n",
    "New_fruits.insert(2,\"Kiwi\")\n",
    "print(New_fruits)\n",
    "mytuple=tuple(New_fruits)\n",
    "print(mytuple)\n",
    "Newtuple = (\"Pineapple\",\"Lemon\",)\n",
    "mytuple+=Newtuple\n",
    "print(mytuple)\n",
    "print(mytuple.count(\"apple\"))\n",
    "print(mytuple.index(\"Apple\"))"
   ]
  },
  {
   "cell_type": "code",
   "execution_count": 15,
   "id": "b532ae74",
   "metadata": {},
   "outputs": [
    {
     "name": "stdout",
     "output_type": "stream",
     "text": [
      "{True, 'Green', 'Apple', 12, 'Red', 54, 'Orange', 'Blue'}\n",
      "{True, 'Green', 'd', 'Apple', 12, 'A', 'Red', 54, 'Orange', 'Blue'}\n",
      "True\n",
      "False\n",
      "True\n"
     ]
    }
   ],
   "source": [
    "##SETS\n",
    "newset = set((\"Apple\",12,54,True,\"Orange\"))\n",
    "myset = {\"Red\", \"Blue\",\"Green\"}\n",
    "myset.update(newset)\n",
    "print(myset)\n",
    "set2 = {\"A\",\"d\"}\n",
    "print(myset.union(set2))\n",
    "print(myset.issuperset(newset))\n",
    "print(myset.issubset(newset))\n",
    "print(newset.issubset(myset))"
   ]
  },
  {
   "cell_type": "code",
   "execution_count": 16,
   "id": "75866025",
   "metadata": {},
   "outputs": [
    {
     "data": {
      "image/png": "[encoded data removed]",
      "text/plain": [
       "<Figure size 432x288 with 1 Axes>"
      ]
     },
     "metadata": {
      "needs_background": "light"
     },
     "output_type": "display_data"
    }
   ],
   "source": [
    "import matplotlib.pyplot as plt\n",
    "import numpy as np\n",
    "x = np.array([0,6])\n",
    "y = np.array([0,36])\n",
    "plt.plot(x,y) #just join the two points 0,0 and 6,36\n",
    "plt.show()"
   ]
  },
  {
   "cell_type": "code",
   "execution_count": 17,
   "id": "ea9d39f2",
   "metadata": {},
   "outputs": [
    {
     "data": {
      "image/png": "[encoded data removed]",
      "text/plain": [
       "<Figure size 432x288 with 1 Axes>"
      ]
     },
     "metadata": {
      "needs_background": "light"
     },
     "output_type": "display_data"
    }
   ],
   "source": [
    "xpoints = np.array([0,1,2,3,4,5,6,7])\n",
    "ypoints = np.array([0,1,4,9,16,25,36,49])\n",
    "plt.plot(xpoints,ypoints,marker = 'd') #join each consecutive point forming pairs from the two arrays\n",
    "plt.show()"
   ]
  },
  {
   "cell_type": "code",
   "execution_count": 18,
   "id": "0b173864",
   "metadata": {},
   "outputs": [
    {
     "data": {
      "image/png": "[encoded data removed]",
      "text/plain": [
       "<Figure size 432x288 with 1 Axes>"
      ]
     },
     "metadata": {
      "needs_background": "light"
     },
     "output_type": "display_data"
    }
   ],
   "source": [
    "plt.plot(xpoints,ypoints,'o:r') \n",
    "plt.show()"
   ]
  },
  {
   "cell_type": "code",
   "execution_count": 19,
   "id": "3a045add",
   "metadata": {},
   "outputs": [
    {
     "data": {
      "image/png": "[encoded data removed]",
      "text/plain": [
       "<Figure size 432x288 with 1 Axes>"
      ]
     },
     "metadata": {
      "needs_background": "light"
     },
     "output_type": "display_data"
    }
   ],
   "source": [
    "plt.plot(xpoints,ypoints,'X--b') #join each consecutive point forming pairs from the two arrays\n",
    "plt.show()"
   ]
  },
  {
   "cell_type": "code",
   "execution_count": 20,
   "id": "f9f8e24b",
   "metadata": {},
   "outputs": [
    {
     "data": {
      "image/png": "[encoded data removed]",
      "text/plain": [
       "<Figure size 432x288 with 1 Axes>"
      ]
     },
     "metadata": {
      "needs_background": "light"
     },
     "output_type": "display_data"
    }
   ],
   "source": [
    "plt.plot(xpoints,ypoints,'<-.g') #join each consecutive point forming pairs from the two arrays\n",
    "plt.show()"
   ]
  },
  {
   "cell_type": "code",
   "execution_count": 21,
   "id": "28713734",
   "metadata": {},
   "outputs": [
    {
     "data": {
      "image/png": "[encoded data removed]",
      "text/plain": [
       "<Figure size 432x288 with 1 Axes>"
      ]
     },
     "metadata": {
      "needs_background": "light"
     },
     "output_type": "display_data"
    }
   ],
   "source": [
    "plt.plot(xpoints,ypoints,'4-y') #join each consecutive point forming pairs from the two arrays\n",
    "plt.show()"
   ]
  },
  {
   "cell_type": "code",
   "execution_count": 22,
   "id": "c429b0bd",
   "metadata": {},
   "outputs": [
    {
     "data": {
      "image/png": "[encoded data removed]",
      "text/plain": [
       "<Figure size 432x288 with 1 Axes>"
      ]
     },
     "metadata": {
      "needs_background": "light"
     },
     "output_type": "display_data"
    }
   ],
   "source": [
    "plt.plot(xpoints,ypoints,'o--b',ms=15,mfc = 'g',mec='r') #mfc - marker fill color, mec - marker edge color, ms - marker size\n",
    "plt.show()"
   ]
  },
  {
   "cell_type": "code",
   "execution_count": 27,
   "id": "2df76a1f",
   "metadata": {},
   "outputs": [
    {
     "data": {
      "image/png": "[encoded data removed]",
      "text/plain": [
       "<Figure size 432x288 with 2 Axes>"
      ]
     },
     "metadata": {
      "needs_background": "light"
     },
     "output_type": "display_data"
    }
   ],
   "source": [
    "x = np.random.randint(100,size = (100))\n",
    "y = np.random.randint(100,size = (100))\n",
    "sizes = np.random.randint(100,size = (100))\n",
    "colors = np.random.randint(100,size = (100))\n",
    "plt.scatter(x,y,c = colors, s = sizes, alpha = 0.75, cmap = 'viridis')\n",
    "plt.colorbar()\n",
    "plt.show()"
   ]
  },
  {
   "cell_type": "code",
   "execution_count": 28,
   "id": "1d4c1093",
   "metadata": {},
   "outputs": [],
   "source": [
    "import mysql.connector"
   ]
  },
  {
   "cell_type": "markdown",
   "id": "c61c5812",
   "metadata": {},
   "source": [
    "Welcome to Python Programming Lessons"
   ]
  },
  {
   "cell_type": "markdown",
   "id": "01c47917",
   "metadata": {},
   "source": [
    "<a href = \"https://www.coursera.org/?authType=google&completeMode=existingCourseraAccount/\"> Coursera - Tools for Data Science</a>"
   ]
  },
  {
   "cell_type": "markdown",
   "id": "a0971aa1",
   "metadata": {},
   "source": [
    "## SIBLINGS"
   ]
  },
  {
   "cell_type": "markdown",
   "id": "ef0de6dd",
   "metadata": {},
   "source": [
    "|           Name           |    Age    |   Gender   |Place of Current Stay |\n",
    "|--------------------------|-----------|------------|----------------------|\n",
    "|Rindhuja Treesa Johnson   |     22    |   Female   |  Puducherry          |\n",
    "|Anooja Johnson            |     18    |   Female   |  Mumbai              |\n",
    "|Anjoe Joseph Johnson      |     13    |   Male     |  Kochi               |"
   ]
  },
  {
   "cell_type": "code",
   "execution_count": 7,
   "id": "623b8e3f",
   "metadata": {},
   "outputs": [
    {
     "name": "stdout",
     "output_type": "stream",
     "text": [
      "Marygiri public school, koothattukulam\n"
     ]
    }
   ],
   "source": [
    "txt = \"MARYGIRI PUBLIC SCHOOL, KOOTHATTUKULAM\"\n",
    "text = txt.casefold()\n",
    "print(text.capitalize())"
   ]
  },
  {
   "cell_type": "markdown",
   "id": "834aed01",
   "metadata": {},
   "source": [
    "<a href =\"https://www.marygiri.org/\">Marygiri Public School, Koothattukulam</a>"
   ]
  },
  {
   "cell_type": "markdown",
   "id": "e76eeff1",
   "metadata": {},
   "source": []
  }
 ],
 "metadata": {
  "kernelspec": {
   "display_name": "Python 3 (ipykernel)",
   "language": "python",
   "name": "python3"
  },
  "language_info": {
   "codemirror_mode": {
    "name": "ipython",
    "version": 3
   },
   "file_extension": ".py",
   "mimetype": "text/x-python",
   "name": "python",
   "nbconvert_exporter": "python",
   "pygments_lexer": "ipython3",
   "version": "3.9.7"
  }
 },
 "nbformat": 4,
 "nbformat_minor": 5
}
